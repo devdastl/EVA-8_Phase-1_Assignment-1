{
  "nbformat": 4,
  "nbformat_minor": 0,
  "metadata": {
    "colab": {
      "provenance": []
    },
    "kernelspec": {
      "name": "python3",
      "display_name": "Python 3"
    },
    "accelerator": "GPU",
    "widgets": {
      "application/vnd.jupyter.widget-state+json": {
        "cad6f0040d9f4883b843910a32606d68": {
          "model_module": "@jupyter-widgets/controls",
          "model_name": "HBoxModel",
          "model_module_version": "1.5.0",
          "state": {
            "_dom_classes": [],
            "_model_module": "@jupyter-widgets/controls",
            "_model_module_version": "1.5.0",
            "_model_name": "HBoxModel",
            "_view_count": null,
            "_view_module": "@jupyter-widgets/controls",
            "_view_module_version": "1.5.0",
            "_view_name": "HBoxView",
            "box_style": "",
            "children": [
              "IPY_MODEL_8656e6c8282244b69114a011fbf34544",
              "IPY_MODEL_0d71ad8a2529461193b9bc6e53f3e79f",
              "IPY_MODEL_63f83c6cc84743e6842217f779550c36"
            ],
            "layout": "IPY_MODEL_57762b44d2734974aed27dc238d9d82b"
          }
        },
        "8656e6c8282244b69114a011fbf34544": {
          "model_module": "@jupyter-widgets/controls",
          "model_name": "HTMLModel",
          "model_module_version": "1.5.0",
          "state": {
            "_dom_classes": [],
            "_model_module": "@jupyter-widgets/controls",
            "_model_module_version": "1.5.0",
            "_model_name": "HTMLModel",
            "_view_count": null,
            "_view_module": "@jupyter-widgets/controls",
            "_view_module_version": "1.5.0",
            "_view_name": "HTMLView",
            "description": "",
            "description_tooltip": null,
            "layout": "IPY_MODEL_aba1c37e3fa845bfa7e74cd8e492881d",
            "placeholder": "​",
            "style": "IPY_MODEL_532f96bbcc084293bd272628dab9bc95",
            "value": "100%"
          }
        },
        "0d71ad8a2529461193b9bc6e53f3e79f": {
          "model_module": "@jupyter-widgets/controls",
          "model_name": "FloatProgressModel",
          "model_module_version": "1.5.0",
          "state": {
            "_dom_classes": [],
            "_model_module": "@jupyter-widgets/controls",
            "_model_module_version": "1.5.0",
            "_model_name": "FloatProgressModel",
            "_view_count": null,
            "_view_module": "@jupyter-widgets/controls",
            "_view_module_version": "1.5.0",
            "_view_name": "ProgressView",
            "bar_style": "success",
            "description": "",
            "description_tooltip": null,
            "layout": "IPY_MODEL_88633ba23ec04510a86182fb280eefaa",
            "max": 9912422,
            "min": 0,
            "orientation": "horizontal",
            "style": "IPY_MODEL_b8f63f6dc0054658a64f4626253a608b",
            "value": 9912422
          }
        },
        "63f83c6cc84743e6842217f779550c36": {
          "model_module": "@jupyter-widgets/controls",
          "model_name": "HTMLModel",
          "model_module_version": "1.5.0",
          "state": {
            "_dom_classes": [],
            "_model_module": "@jupyter-widgets/controls",
            "_model_module_version": "1.5.0",
            "_model_name": "HTMLModel",
            "_view_count": null,
            "_view_module": "@jupyter-widgets/controls",
            "_view_module_version": "1.5.0",
            "_view_name": "HTMLView",
            "description": "",
            "description_tooltip": null,
            "layout": "IPY_MODEL_3536c4fc217b4b3c872547a4c4e8c797",
            "placeholder": "​",
            "style": "IPY_MODEL_aef30c005598491e9068233baba6be9d",
            "value": " 9912422/9912422 [00:00&lt;00:00, 59785611.53it/s]"
          }
        },
        "57762b44d2734974aed27dc238d9d82b": {
          "model_module": "@jupyter-widgets/base",
          "model_name": "LayoutModel",
          "model_module_version": "1.2.0",
          "state": {
            "_model_module": "@jupyter-widgets/base",
            "_model_module_version": "1.2.0",
            "_model_name": "LayoutModel",
            "_view_count": null,
            "_view_module": "@jupyter-widgets/base",
            "_view_module_version": "1.2.0",
            "_view_name": "LayoutView",
            "align_content": null,
            "align_items": null,
            "align_self": null,
            "border": null,
            "bottom": null,
            "display": null,
            "flex": null,
            "flex_flow": null,
            "grid_area": null,
            "grid_auto_columns": null,
            "grid_auto_flow": null,
            "grid_auto_rows": null,
            "grid_column": null,
            "grid_gap": null,
            "grid_row": null,
            "grid_template_areas": null,
            "grid_template_columns": null,
            "grid_template_rows": null,
            "height": null,
            "justify_content": null,
            "justify_items": null,
            "left": null,
            "margin": null,
            "max_height": null,
            "max_width": null,
            "min_height": null,
            "min_width": null,
            "object_fit": null,
            "object_position": null,
            "order": null,
            "overflow": null,
            "overflow_x": null,
            "overflow_y": null,
            "padding": null,
            "right": null,
            "top": null,
            "visibility": null,
            "width": null
          }
        },
        "aba1c37e3fa845bfa7e74cd8e492881d": {
          "model_module": "@jupyter-widgets/base",
          "model_name": "LayoutModel",
          "model_module_version": "1.2.0",
          "state": {
            "_model_module": "@jupyter-widgets/base",
            "_model_module_version": "1.2.0",
            "_model_name": "LayoutModel",
            "_view_count": null,
            "_view_module": "@jupyter-widgets/base",
            "_view_module_version": "1.2.0",
            "_view_name": "LayoutView",
            "align_content": null,
            "align_items": null,
            "align_self": null,
            "border": null,
            "bottom": null,
            "display": null,
            "flex": null,
            "flex_flow": null,
            "grid_area": null,
            "grid_auto_columns": null,
            "grid_auto_flow": null,
            "grid_auto_rows": null,
            "grid_column": null,
            "grid_gap": null,
            "grid_row": null,
            "grid_template_areas": null,
            "grid_template_columns": null,
            "grid_template_rows": null,
            "height": null,
            "justify_content": null,
            "justify_items": null,
            "left": null,
            "margin": null,
            "max_height": null,
            "max_width": null,
            "min_height": null,
            "min_width": null,
            "object_fit": null,
            "object_position": null,
            "order": null,
            "overflow": null,
            "overflow_x": null,
            "overflow_y": null,
            "padding": null,
            "right": null,
            "top": null,
            "visibility": null,
            "width": null
          }
        },
        "532f96bbcc084293bd272628dab9bc95": {
          "model_module": "@jupyter-widgets/controls",
          "model_name": "DescriptionStyleModel",
          "model_module_version": "1.5.0",
          "state": {
            "_model_module": "@jupyter-widgets/controls",
            "_model_module_version": "1.5.0",
            "_model_name": "DescriptionStyleModel",
            "_view_count": null,
            "_view_module": "@jupyter-widgets/base",
            "_view_module_version": "1.2.0",
            "_view_name": "StyleView",
            "description_width": ""
          }
        },
        "88633ba23ec04510a86182fb280eefaa": {
          "model_module": "@jupyter-widgets/base",
          "model_name": "LayoutModel",
          "model_module_version": "1.2.0",
          "state": {
            "_model_module": "@jupyter-widgets/base",
            "_model_module_version": "1.2.0",
            "_model_name": "LayoutModel",
            "_view_count": null,
            "_view_module": "@jupyter-widgets/base",
            "_view_module_version": "1.2.0",
            "_view_name": "LayoutView",
            "align_content": null,
            "align_items": null,
            "align_self": null,
            "border": null,
            "bottom": null,
            "display": null,
            "flex": null,
            "flex_flow": null,
            "grid_area": null,
            "grid_auto_columns": null,
            "grid_auto_flow": null,
            "grid_auto_rows": null,
            "grid_column": null,
            "grid_gap": null,
            "grid_row": null,
            "grid_template_areas": null,
            "grid_template_columns": null,
            "grid_template_rows": null,
            "height": null,
            "justify_content": null,
            "justify_items": null,
            "left": null,
            "margin": null,
            "max_height": null,
            "max_width": null,
            "min_height": null,
            "min_width": null,
            "object_fit": null,
            "object_position": null,
            "order": null,
            "overflow": null,
            "overflow_x": null,
            "overflow_y": null,
            "padding": null,
            "right": null,
            "top": null,
            "visibility": null,
            "width": null
          }
        },
        "b8f63f6dc0054658a64f4626253a608b": {
          "model_module": "@jupyter-widgets/controls",
          "model_name": "ProgressStyleModel",
          "model_module_version": "1.5.0",
          "state": {
            "_model_module": "@jupyter-widgets/controls",
            "_model_module_version": "1.5.0",
            "_model_name": "ProgressStyleModel",
            "_view_count": null,
            "_view_module": "@jupyter-widgets/base",
            "_view_module_version": "1.2.0",
            "_view_name": "StyleView",
            "bar_color": null,
            "description_width": ""
          }
        },
        "3536c4fc217b4b3c872547a4c4e8c797": {
          "model_module": "@jupyter-widgets/base",
          "model_name": "LayoutModel",
          "model_module_version": "1.2.0",
          "state": {
            "_model_module": "@jupyter-widgets/base",
            "_model_module_version": "1.2.0",
            "_model_name": "LayoutModel",
            "_view_count": null,
            "_view_module": "@jupyter-widgets/base",
            "_view_module_version": "1.2.0",
            "_view_name": "LayoutView",
            "align_content": null,
            "align_items": null,
            "align_self": null,
            "border": null,
            "bottom": null,
            "display": null,
            "flex": null,
            "flex_flow": null,
            "grid_area": null,
            "grid_auto_columns": null,
            "grid_auto_flow": null,
            "grid_auto_rows": null,
            "grid_column": null,
            "grid_gap": null,
            "grid_row": null,
            "grid_template_areas": null,
            "grid_template_columns": null,
            "grid_template_rows": null,
            "height": null,
            "justify_content": null,
            "justify_items": null,
            "left": null,
            "margin": null,
            "max_height": null,
            "max_width": null,
            "min_height": null,
            "min_width": null,
            "object_fit": null,
            "object_position": null,
            "order": null,
            "overflow": null,
            "overflow_x": null,
            "overflow_y": null,
            "padding": null,
            "right": null,
            "top": null,
            "visibility": null,
            "width": null
          }
        },
        "aef30c005598491e9068233baba6be9d": {
          "model_module": "@jupyter-widgets/controls",
          "model_name": "DescriptionStyleModel",
          "model_module_version": "1.5.0",
          "state": {
            "_model_module": "@jupyter-widgets/controls",
            "_model_module_version": "1.5.0",
            "_model_name": "DescriptionStyleModel",
            "_view_count": null,
            "_view_module": "@jupyter-widgets/base",
            "_view_module_version": "1.2.0",
            "_view_name": "StyleView",
            "description_width": ""
          }
        },
        "3573fcdd7ccc4a51ba8e6757970d2387": {
          "model_module": "@jupyter-widgets/controls",
          "model_name": "HBoxModel",
          "model_module_version": "1.5.0",
          "state": {
            "_dom_classes": [],
            "_model_module": "@jupyter-widgets/controls",
            "_model_module_version": "1.5.0",
            "_model_name": "HBoxModel",
            "_view_count": null,
            "_view_module": "@jupyter-widgets/controls",
            "_view_module_version": "1.5.0",
            "_view_name": "HBoxView",
            "box_style": "",
            "children": [
              "IPY_MODEL_b63acf1294fb41a0a2d4f1733d55588f",
              "IPY_MODEL_2f9b4d33a61e4f5f9474472318edad61",
              "IPY_MODEL_3eddef75423c48db8291135b72633cbf"
            ],
            "layout": "IPY_MODEL_3a3d0e20e1e84ac999c586f700afd70a"
          }
        },
        "b63acf1294fb41a0a2d4f1733d55588f": {
          "model_module": "@jupyter-widgets/controls",
          "model_name": "HTMLModel",
          "model_module_version": "1.5.0",
          "state": {
            "_dom_classes": [],
            "_model_module": "@jupyter-widgets/controls",
            "_model_module_version": "1.5.0",
            "_model_name": "HTMLModel",
            "_view_count": null,
            "_view_module": "@jupyter-widgets/controls",
            "_view_module_version": "1.5.0",
            "_view_name": "HTMLView",
            "description": "",
            "description_tooltip": null,
            "layout": "IPY_MODEL_3800a3230a364d7888a3c5008d4802b7",
            "placeholder": "​",
            "style": "IPY_MODEL_2b788b54ca4e44f98e1390735671e631",
            "value": "100%"
          }
        },
        "2f9b4d33a61e4f5f9474472318edad61": {
          "model_module": "@jupyter-widgets/controls",
          "model_name": "FloatProgressModel",
          "model_module_version": "1.5.0",
          "state": {
            "_dom_classes": [],
            "_model_module": "@jupyter-widgets/controls",
            "_model_module_version": "1.5.0",
            "_model_name": "FloatProgressModel",
            "_view_count": null,
            "_view_module": "@jupyter-widgets/controls",
            "_view_module_version": "1.5.0",
            "_view_name": "ProgressView",
            "bar_style": "success",
            "description": "",
            "description_tooltip": null,
            "layout": "IPY_MODEL_f4e8fae6807c456984541cc6aecfce39",
            "max": 28881,
            "min": 0,
            "orientation": "horizontal",
            "style": "IPY_MODEL_3fdc7f73177a478288200043ea19d083",
            "value": 28881
          }
        },
        "3eddef75423c48db8291135b72633cbf": {
          "model_module": "@jupyter-widgets/controls",
          "model_name": "HTMLModel",
          "model_module_version": "1.5.0",
          "state": {
            "_dom_classes": [],
            "_model_module": "@jupyter-widgets/controls",
            "_model_module_version": "1.5.0",
            "_model_name": "HTMLModel",
            "_view_count": null,
            "_view_module": "@jupyter-widgets/controls",
            "_view_module_version": "1.5.0",
            "_view_name": "HTMLView",
            "description": "",
            "description_tooltip": null,
            "layout": "IPY_MODEL_45fabc08e8784424b41e4dfd9d9d6806",
            "placeholder": "​",
            "style": "IPY_MODEL_5be51e65bb954f168375c3f8bfdc3190",
            "value": " 28881/28881 [00:00&lt;00:00, 1052731.37it/s]"
          }
        },
        "3a3d0e20e1e84ac999c586f700afd70a": {
          "model_module": "@jupyter-widgets/base",
          "model_name": "LayoutModel",
          "model_module_version": "1.2.0",
          "state": {
            "_model_module": "@jupyter-widgets/base",
            "_model_module_version": "1.2.0",
            "_model_name": "LayoutModel",
            "_view_count": null,
            "_view_module": "@jupyter-widgets/base",
            "_view_module_version": "1.2.0",
            "_view_name": "LayoutView",
            "align_content": null,
            "align_items": null,
            "align_self": null,
            "border": null,
            "bottom": null,
            "display": null,
            "flex": null,
            "flex_flow": null,
            "grid_area": null,
            "grid_auto_columns": null,
            "grid_auto_flow": null,
            "grid_auto_rows": null,
            "grid_column": null,
            "grid_gap": null,
            "grid_row": null,
            "grid_template_areas": null,
            "grid_template_columns": null,
            "grid_template_rows": null,
            "height": null,
            "justify_content": null,
            "justify_items": null,
            "left": null,
            "margin": null,
            "max_height": null,
            "max_width": null,
            "min_height": null,
            "min_width": null,
            "object_fit": null,
            "object_position": null,
            "order": null,
            "overflow": null,
            "overflow_x": null,
            "overflow_y": null,
            "padding": null,
            "right": null,
            "top": null,
            "visibility": null,
            "width": null
          }
        },
        "3800a3230a364d7888a3c5008d4802b7": {
          "model_module": "@jupyter-widgets/base",
          "model_name": "LayoutModel",
          "model_module_version": "1.2.0",
          "state": {
            "_model_module": "@jupyter-widgets/base",
            "_model_module_version": "1.2.0",
            "_model_name": "LayoutModel",
            "_view_count": null,
            "_view_module": "@jupyter-widgets/base",
            "_view_module_version": "1.2.0",
            "_view_name": "LayoutView",
            "align_content": null,
            "align_items": null,
            "align_self": null,
            "border": null,
            "bottom": null,
            "display": null,
            "flex": null,
            "flex_flow": null,
            "grid_area": null,
            "grid_auto_columns": null,
            "grid_auto_flow": null,
            "grid_auto_rows": null,
            "grid_column": null,
            "grid_gap": null,
            "grid_row": null,
            "grid_template_areas": null,
            "grid_template_columns": null,
            "grid_template_rows": null,
            "height": null,
            "justify_content": null,
            "justify_items": null,
            "left": null,
            "margin": null,
            "max_height": null,
            "max_width": null,
            "min_height": null,
            "min_width": null,
            "object_fit": null,
            "object_position": null,
            "order": null,
            "overflow": null,
            "overflow_x": null,
            "overflow_y": null,
            "padding": null,
            "right": null,
            "top": null,
            "visibility": null,
            "width": null
          }
        },
        "2b788b54ca4e44f98e1390735671e631": {
          "model_module": "@jupyter-widgets/controls",
          "model_name": "DescriptionStyleModel",
          "model_module_version": "1.5.0",
          "state": {
            "_model_module": "@jupyter-widgets/controls",
            "_model_module_version": "1.5.0",
            "_model_name": "DescriptionStyleModel",
            "_view_count": null,
            "_view_module": "@jupyter-widgets/base",
            "_view_module_version": "1.2.0",
            "_view_name": "StyleView",
            "description_width": ""
          }
        },
        "f4e8fae6807c456984541cc6aecfce39": {
          "model_module": "@jupyter-widgets/base",
          "model_name": "LayoutModel",
          "model_module_version": "1.2.0",
          "state": {
            "_model_module": "@jupyter-widgets/base",
            "_model_module_version": "1.2.0",
            "_model_name": "LayoutModel",
            "_view_count": null,
            "_view_module": "@jupyter-widgets/base",
            "_view_module_version": "1.2.0",
            "_view_name": "LayoutView",
            "align_content": null,
            "align_items": null,
            "align_self": null,
            "border": null,
            "bottom": null,
            "display": null,
            "flex": null,
            "flex_flow": null,
            "grid_area": null,
            "grid_auto_columns": null,
            "grid_auto_flow": null,
            "grid_auto_rows": null,
            "grid_column": null,
            "grid_gap": null,
            "grid_row": null,
            "grid_template_areas": null,
            "grid_template_columns": null,
            "grid_template_rows": null,
            "height": null,
            "justify_content": null,
            "justify_items": null,
            "left": null,
            "margin": null,
            "max_height": null,
            "max_width": null,
            "min_height": null,
            "min_width": null,
            "object_fit": null,
            "object_position": null,
            "order": null,
            "overflow": null,
            "overflow_x": null,
            "overflow_y": null,
            "padding": null,
            "right": null,
            "top": null,
            "visibility": null,
            "width": null
          }
        },
        "3fdc7f73177a478288200043ea19d083": {
          "model_module": "@jupyter-widgets/controls",
          "model_name": "ProgressStyleModel",
          "model_module_version": "1.5.0",
          "state": {
            "_model_module": "@jupyter-widgets/controls",
            "_model_module_version": "1.5.0",
            "_model_name": "ProgressStyleModel",
            "_view_count": null,
            "_view_module": "@jupyter-widgets/base",
            "_view_module_version": "1.2.0",
            "_view_name": "StyleView",
            "bar_color": null,
            "description_width": ""
          }
        },
        "45fabc08e8784424b41e4dfd9d9d6806": {
          "model_module": "@jupyter-widgets/base",
          "model_name": "LayoutModel",
          "model_module_version": "1.2.0",
          "state": {
            "_model_module": "@jupyter-widgets/base",
            "_model_module_version": "1.2.0",
            "_model_name": "LayoutModel",
            "_view_count": null,
            "_view_module": "@jupyter-widgets/base",
            "_view_module_version": "1.2.0",
            "_view_name": "LayoutView",
            "align_content": null,
            "align_items": null,
            "align_self": null,
            "border": null,
            "bottom": null,
            "display": null,
            "flex": null,
            "flex_flow": null,
            "grid_area": null,
            "grid_auto_columns": null,
            "grid_auto_flow": null,
            "grid_auto_rows": null,
            "grid_column": null,
            "grid_gap": null,
            "grid_row": null,
            "grid_template_areas": null,
            "grid_template_columns": null,
            "grid_template_rows": null,
            "height": null,
            "justify_content": null,
            "justify_items": null,
            "left": null,
            "margin": null,
            "max_height": null,
            "max_width": null,
            "min_height": null,
            "min_width": null,
            "object_fit": null,
            "object_position": null,
            "order": null,
            "overflow": null,
            "overflow_x": null,
            "overflow_y": null,
            "padding": null,
            "right": null,
            "top": null,
            "visibility": null,
            "width": null
          }
        },
        "5be51e65bb954f168375c3f8bfdc3190": {
          "model_module": "@jupyter-widgets/controls",
          "model_name": "DescriptionStyleModel",
          "model_module_version": "1.5.0",
          "state": {
            "_model_module": "@jupyter-widgets/controls",
            "_model_module_version": "1.5.0",
            "_model_name": "DescriptionStyleModel",
            "_view_count": null,
            "_view_module": "@jupyter-widgets/base",
            "_view_module_version": "1.2.0",
            "_view_name": "StyleView",
            "description_width": ""
          }
        },
        "bac767458ded4447aab8bc892cd9539c": {
          "model_module": "@jupyter-widgets/controls",
          "model_name": "HBoxModel",
          "model_module_version": "1.5.0",
          "state": {
            "_dom_classes": [],
            "_model_module": "@jupyter-widgets/controls",
            "_model_module_version": "1.5.0",
            "_model_name": "HBoxModel",
            "_view_count": null,
            "_view_module": "@jupyter-widgets/controls",
            "_view_module_version": "1.5.0",
            "_view_name": "HBoxView",
            "box_style": "",
            "children": [
              "IPY_MODEL_d0c8cd4e86a74feeb21046d0efa3e166",
              "IPY_MODEL_58280be66e594f459335a7b012755753",
              "IPY_MODEL_ed2ac6a5625f4a98900544cb822a5f96"
            ],
            "layout": "IPY_MODEL_172ee355d97c4cbcabe45860b980a58d"
          }
        },
        "d0c8cd4e86a74feeb21046d0efa3e166": {
          "model_module": "@jupyter-widgets/controls",
          "model_name": "HTMLModel",
          "model_module_version": "1.5.0",
          "state": {
            "_dom_classes": [],
            "_model_module": "@jupyter-widgets/controls",
            "_model_module_version": "1.5.0",
            "_model_name": "HTMLModel",
            "_view_count": null,
            "_view_module": "@jupyter-widgets/controls",
            "_view_module_version": "1.5.0",
            "_view_name": "HTMLView",
            "description": "",
            "description_tooltip": null,
            "layout": "IPY_MODEL_a9d8c65d8b99458f9ea9a568955287e0",
            "placeholder": "​",
            "style": "IPY_MODEL_91a51713a041423f81d25b3b94851faf",
            "value": "100%"
          }
        },
        "58280be66e594f459335a7b012755753": {
          "model_module": "@jupyter-widgets/controls",
          "model_name": "FloatProgressModel",
          "model_module_version": "1.5.0",
          "state": {
            "_dom_classes": [],
            "_model_module": "@jupyter-widgets/controls",
            "_model_module_version": "1.5.0",
            "_model_name": "FloatProgressModel",
            "_view_count": null,
            "_view_module": "@jupyter-widgets/controls",
            "_view_module_version": "1.5.0",
            "_view_name": "ProgressView",
            "bar_style": "success",
            "description": "",
            "description_tooltip": null,
            "layout": "IPY_MODEL_9e06657d3cb443e294746a4a9dc63cdf",
            "max": 1648877,
            "min": 0,
            "orientation": "horizontal",
            "style": "IPY_MODEL_33efd78e7e864f2b82d873bcd9d18f53",
            "value": 1648877
          }
        },
        "ed2ac6a5625f4a98900544cb822a5f96": {
          "model_module": "@jupyter-widgets/controls",
          "model_name": "HTMLModel",
          "model_module_version": "1.5.0",
          "state": {
            "_dom_classes": [],
            "_model_module": "@jupyter-widgets/controls",
            "_model_module_version": "1.5.0",
            "_model_name": "HTMLModel",
            "_view_count": null,
            "_view_module": "@jupyter-widgets/controls",
            "_view_module_version": "1.5.0",
            "_view_name": "HTMLView",
            "description": "",
            "description_tooltip": null,
            "layout": "IPY_MODEL_412f8d6f8aea445da85814079822d2c9",
            "placeholder": "​",
            "style": "IPY_MODEL_ffad444419934bcab597dbea48ff3057",
            "value": " 1648877/1648877 [00:00&lt;00:00, 30360154.51it/s]"
          }
        },
        "172ee355d97c4cbcabe45860b980a58d": {
          "model_module": "@jupyter-widgets/base",
          "model_name": "LayoutModel",
          "model_module_version": "1.2.0",
          "state": {
            "_model_module": "@jupyter-widgets/base",
            "_model_module_version": "1.2.0",
            "_model_name": "LayoutModel",
            "_view_count": null,
            "_view_module": "@jupyter-widgets/base",
            "_view_module_version": "1.2.0",
            "_view_name": "LayoutView",
            "align_content": null,
            "align_items": null,
            "align_self": null,
            "border": null,
            "bottom": null,
            "display": null,
            "flex": null,
            "flex_flow": null,
            "grid_area": null,
            "grid_auto_columns": null,
            "grid_auto_flow": null,
            "grid_auto_rows": null,
            "grid_column": null,
            "grid_gap": null,
            "grid_row": null,
            "grid_template_areas": null,
            "grid_template_columns": null,
            "grid_template_rows": null,
            "height": null,
            "justify_content": null,
            "justify_items": null,
            "left": null,
            "margin": null,
            "max_height": null,
            "max_width": null,
            "min_height": null,
            "min_width": null,
            "object_fit": null,
            "object_position": null,
            "order": null,
            "overflow": null,
            "overflow_x": null,
            "overflow_y": null,
            "padding": null,
            "right": null,
            "top": null,
            "visibility": null,
            "width": null
          }
        },
        "a9d8c65d8b99458f9ea9a568955287e0": {
          "model_module": "@jupyter-widgets/base",
          "model_name": "LayoutModel",
          "model_module_version": "1.2.0",
          "state": {
            "_model_module": "@jupyter-widgets/base",
            "_model_module_version": "1.2.0",
            "_model_name": "LayoutModel",
            "_view_count": null,
            "_view_module": "@jupyter-widgets/base",
            "_view_module_version": "1.2.0",
            "_view_name": "LayoutView",
            "align_content": null,
            "align_items": null,
            "align_self": null,
            "border": null,
            "bottom": null,
            "display": null,
            "flex": null,
            "flex_flow": null,
            "grid_area": null,
            "grid_auto_columns": null,
            "grid_auto_flow": null,
            "grid_auto_rows": null,
            "grid_column": null,
            "grid_gap": null,
            "grid_row": null,
            "grid_template_areas": null,
            "grid_template_columns": null,
            "grid_template_rows": null,
            "height": null,
            "justify_content": null,
            "justify_items": null,
            "left": null,
            "margin": null,
            "max_height": null,
            "max_width": null,
            "min_height": null,
            "min_width": null,
            "object_fit": null,
            "object_position": null,
            "order": null,
            "overflow": null,
            "overflow_x": null,
            "overflow_y": null,
            "padding": null,
            "right": null,
            "top": null,
            "visibility": null,
            "width": null
          }
        },
        "91a51713a041423f81d25b3b94851faf": {
          "model_module": "@jupyter-widgets/controls",
          "model_name": "DescriptionStyleModel",
          "model_module_version": "1.5.0",
          "state": {
            "_model_module": "@jupyter-widgets/controls",
            "_model_module_version": "1.5.0",
            "_model_name": "DescriptionStyleModel",
            "_view_count": null,
            "_view_module": "@jupyter-widgets/base",
            "_view_module_version": "1.2.0",
            "_view_name": "StyleView",
            "description_width": ""
          }
        },
        "9e06657d3cb443e294746a4a9dc63cdf": {
          "model_module": "@jupyter-widgets/base",
          "model_name": "LayoutModel",
          "model_module_version": "1.2.0",
          "state": {
            "_model_module": "@jupyter-widgets/base",
            "_model_module_version": "1.2.0",
            "_model_name": "LayoutModel",
            "_view_count": null,
            "_view_module": "@jupyter-widgets/base",
            "_view_module_version": "1.2.0",
            "_view_name": "LayoutView",
            "align_content": null,
            "align_items": null,
            "align_self": null,
            "border": null,
            "bottom": null,
            "display": null,
            "flex": null,
            "flex_flow": null,
            "grid_area": null,
            "grid_auto_columns": null,
            "grid_auto_flow": null,
            "grid_auto_rows": null,
            "grid_column": null,
            "grid_gap": null,
            "grid_row": null,
            "grid_template_areas": null,
            "grid_template_columns": null,
            "grid_template_rows": null,
            "height": null,
            "justify_content": null,
            "justify_items": null,
            "left": null,
            "margin": null,
            "max_height": null,
            "max_width": null,
            "min_height": null,
            "min_width": null,
            "object_fit": null,
            "object_position": null,
            "order": null,
            "overflow": null,
            "overflow_x": null,
            "overflow_y": null,
            "padding": null,
            "right": null,
            "top": null,
            "visibility": null,
            "width": null
          }
        },
        "33efd78e7e864f2b82d873bcd9d18f53": {
          "model_module": "@jupyter-widgets/controls",
          "model_name": "ProgressStyleModel",
          "model_module_version": "1.5.0",
          "state": {
            "_model_module": "@jupyter-widgets/controls",
            "_model_module_version": "1.5.0",
            "_model_name": "ProgressStyleModel",
            "_view_count": null,
            "_view_module": "@jupyter-widgets/base",
            "_view_module_version": "1.2.0",
            "_view_name": "StyleView",
            "bar_color": null,
            "description_width": ""
          }
        },
        "412f8d6f8aea445da85814079822d2c9": {
          "model_module": "@jupyter-widgets/base",
          "model_name": "LayoutModel",
          "model_module_version": "1.2.0",
          "state": {
            "_model_module": "@jupyter-widgets/base",
            "_model_module_version": "1.2.0",
            "_model_name": "LayoutModel",
            "_view_count": null,
            "_view_module": "@jupyter-widgets/base",
            "_view_module_version": "1.2.0",
            "_view_name": "LayoutView",
            "align_content": null,
            "align_items": null,
            "align_self": null,
            "border": null,
            "bottom": null,
            "display": null,
            "flex": null,
            "flex_flow": null,
            "grid_area": null,
            "grid_auto_columns": null,
            "grid_auto_flow": null,
            "grid_auto_rows": null,
            "grid_column": null,
            "grid_gap": null,
            "grid_row": null,
            "grid_template_areas": null,
            "grid_template_columns": null,
            "grid_template_rows": null,
            "height": null,
            "justify_content": null,
            "justify_items": null,
            "left": null,
            "margin": null,
            "max_height": null,
            "max_width": null,
            "min_height": null,
            "min_width": null,
            "object_fit": null,
            "object_position": null,
            "order": null,
            "overflow": null,
            "overflow_x": null,
            "overflow_y": null,
            "padding": null,
            "right": null,
            "top": null,
            "visibility": null,
            "width": null
          }
        },
        "ffad444419934bcab597dbea48ff3057": {
          "model_module": "@jupyter-widgets/controls",
          "model_name": "DescriptionStyleModel",
          "model_module_version": "1.5.0",
          "state": {
            "_model_module": "@jupyter-widgets/controls",
            "_model_module_version": "1.5.0",
            "_model_name": "DescriptionStyleModel",
            "_view_count": null,
            "_view_module": "@jupyter-widgets/base",
            "_view_module_version": "1.2.0",
            "_view_name": "StyleView",
            "description_width": ""
          }
        },
        "91eccb18f5ca4a5eae82ac738d3fdc45": {
          "model_module": "@jupyter-widgets/controls",
          "model_name": "HBoxModel",
          "model_module_version": "1.5.0",
          "state": {
            "_dom_classes": [],
            "_model_module": "@jupyter-widgets/controls",
            "_model_module_version": "1.5.0",
            "_model_name": "HBoxModel",
            "_view_count": null,
            "_view_module": "@jupyter-widgets/controls",
            "_view_module_version": "1.5.0",
            "_view_name": "HBoxView",
            "box_style": "",
            "children": [
              "IPY_MODEL_33c1028960e34a4c82fc542a714569fb",
              "IPY_MODEL_74111955f5f74ec38dfbad07141c4025",
              "IPY_MODEL_2e277ec14ca549e0a3d6af3d34a22a51"
            ],
            "layout": "IPY_MODEL_9a10171638df420ab3b7e455c024fd22"
          }
        },
        "33c1028960e34a4c82fc542a714569fb": {
          "model_module": "@jupyter-widgets/controls",
          "model_name": "HTMLModel",
          "model_module_version": "1.5.0",
          "state": {
            "_dom_classes": [],
            "_model_module": "@jupyter-widgets/controls",
            "_model_module_version": "1.5.0",
            "_model_name": "HTMLModel",
            "_view_count": null,
            "_view_module": "@jupyter-widgets/controls",
            "_view_module_version": "1.5.0",
            "_view_name": "HTMLView",
            "description": "",
            "description_tooltip": null,
            "layout": "IPY_MODEL_5b2ed7e5188842319986e5e36db77ddf",
            "placeholder": "​",
            "style": "IPY_MODEL_f7c13150537d429c99ef6c964d8e12f0",
            "value": "100%"
          }
        },
        "74111955f5f74ec38dfbad07141c4025": {
          "model_module": "@jupyter-widgets/controls",
          "model_name": "FloatProgressModel",
          "model_module_version": "1.5.0",
          "state": {
            "_dom_classes": [],
            "_model_module": "@jupyter-widgets/controls",
            "_model_module_version": "1.5.0",
            "_model_name": "FloatProgressModel",
            "_view_count": null,
            "_view_module": "@jupyter-widgets/controls",
            "_view_module_version": "1.5.0",
            "_view_name": "ProgressView",
            "bar_style": "success",
            "description": "",
            "description_tooltip": null,
            "layout": "IPY_MODEL_102fddde6d7f43a69f1960695191efd3",
            "max": 4542,
            "min": 0,
            "orientation": "horizontal",
            "style": "IPY_MODEL_a9f466f6688b4bcfbec6541b331a0918",
            "value": 4542
          }
        },
        "2e277ec14ca549e0a3d6af3d34a22a51": {
          "model_module": "@jupyter-widgets/controls",
          "model_name": "HTMLModel",
          "model_module_version": "1.5.0",
          "state": {
            "_dom_classes": [],
            "_model_module": "@jupyter-widgets/controls",
            "_model_module_version": "1.5.0",
            "_model_name": "HTMLModel",
            "_view_count": null,
            "_view_module": "@jupyter-widgets/controls",
            "_view_module_version": "1.5.0",
            "_view_name": "HTMLView",
            "description": "",
            "description_tooltip": null,
            "layout": "IPY_MODEL_d839ceae25644094a6501388f27a496d",
            "placeholder": "​",
            "style": "IPY_MODEL_62056c1694fc4ef8ba2e928903c3406c",
            "value": " 4542/4542 [00:00&lt;00:00, 133400.52it/s]"
          }
        },
        "9a10171638df420ab3b7e455c024fd22": {
          "model_module": "@jupyter-widgets/base",
          "model_name": "LayoutModel",
          "model_module_version": "1.2.0",
          "state": {
            "_model_module": "@jupyter-widgets/base",
            "_model_module_version": "1.2.0",
            "_model_name": "LayoutModel",
            "_view_count": null,
            "_view_module": "@jupyter-widgets/base",
            "_view_module_version": "1.2.0",
            "_view_name": "LayoutView",
            "align_content": null,
            "align_items": null,
            "align_self": null,
            "border": null,
            "bottom": null,
            "display": null,
            "flex": null,
            "flex_flow": null,
            "grid_area": null,
            "grid_auto_columns": null,
            "grid_auto_flow": null,
            "grid_auto_rows": null,
            "grid_column": null,
            "grid_gap": null,
            "grid_row": null,
            "grid_template_areas": null,
            "grid_template_columns": null,
            "grid_template_rows": null,
            "height": null,
            "justify_content": null,
            "justify_items": null,
            "left": null,
            "margin": null,
            "max_height": null,
            "max_width": null,
            "min_height": null,
            "min_width": null,
            "object_fit": null,
            "object_position": null,
            "order": null,
            "overflow": null,
            "overflow_x": null,
            "overflow_y": null,
            "padding": null,
            "right": null,
            "top": null,
            "visibility": null,
            "width": null
          }
        },
        "5b2ed7e5188842319986e5e36db77ddf": {
          "model_module": "@jupyter-widgets/base",
          "model_name": "LayoutModel",
          "model_module_version": "1.2.0",
          "state": {
            "_model_module": "@jupyter-widgets/base",
            "_model_module_version": "1.2.0",
            "_model_name": "LayoutModel",
            "_view_count": null,
            "_view_module": "@jupyter-widgets/base",
            "_view_module_version": "1.2.0",
            "_view_name": "LayoutView",
            "align_content": null,
            "align_items": null,
            "align_self": null,
            "border": null,
            "bottom": null,
            "display": null,
            "flex": null,
            "flex_flow": null,
            "grid_area": null,
            "grid_auto_columns": null,
            "grid_auto_flow": null,
            "grid_auto_rows": null,
            "grid_column": null,
            "grid_gap": null,
            "grid_row": null,
            "grid_template_areas": null,
            "grid_template_columns": null,
            "grid_template_rows": null,
            "height": null,
            "justify_content": null,
            "justify_items": null,
            "left": null,
            "margin": null,
            "max_height": null,
            "max_width": null,
            "min_height": null,
            "min_width": null,
            "object_fit": null,
            "object_position": null,
            "order": null,
            "overflow": null,
            "overflow_x": null,
            "overflow_y": null,
            "padding": null,
            "right": null,
            "top": null,
            "visibility": null,
            "width": null
          }
        },
        "f7c13150537d429c99ef6c964d8e12f0": {
          "model_module": "@jupyter-widgets/controls",
          "model_name": "DescriptionStyleModel",
          "model_module_version": "1.5.0",
          "state": {
            "_model_module": "@jupyter-widgets/controls",
            "_model_module_version": "1.5.0",
            "_model_name": "DescriptionStyleModel",
            "_view_count": null,
            "_view_module": "@jupyter-widgets/base",
            "_view_module_version": "1.2.0",
            "_view_name": "StyleView",
            "description_width": ""
          }
        },
        "102fddde6d7f43a69f1960695191efd3": {
          "model_module": "@jupyter-widgets/base",
          "model_name": "LayoutModel",
          "model_module_version": "1.2.0",
          "state": {
            "_model_module": "@jupyter-widgets/base",
            "_model_module_version": "1.2.0",
            "_model_name": "LayoutModel",
            "_view_count": null,
            "_view_module": "@jupyter-widgets/base",
            "_view_module_version": "1.2.0",
            "_view_name": "LayoutView",
            "align_content": null,
            "align_items": null,
            "align_self": null,
            "border": null,
            "bottom": null,
            "display": null,
            "flex": null,
            "flex_flow": null,
            "grid_area": null,
            "grid_auto_columns": null,
            "grid_auto_flow": null,
            "grid_auto_rows": null,
            "grid_column": null,
            "grid_gap": null,
            "grid_row": null,
            "grid_template_areas": null,
            "grid_template_columns": null,
            "grid_template_rows": null,
            "height": null,
            "justify_content": null,
            "justify_items": null,
            "left": null,
            "margin": null,
            "max_height": null,
            "max_width": null,
            "min_height": null,
            "min_width": null,
            "object_fit": null,
            "object_position": null,
            "order": null,
            "overflow": null,
            "overflow_x": null,
            "overflow_y": null,
            "padding": null,
            "right": null,
            "top": null,
            "visibility": null,
            "width": null
          }
        },
        "a9f466f6688b4bcfbec6541b331a0918": {
          "model_module": "@jupyter-widgets/controls",
          "model_name": "ProgressStyleModel",
          "model_module_version": "1.5.0",
          "state": {
            "_model_module": "@jupyter-widgets/controls",
            "_model_module_version": "1.5.0",
            "_model_name": "ProgressStyleModel",
            "_view_count": null,
            "_view_module": "@jupyter-widgets/base",
            "_view_module_version": "1.2.0",
            "_view_name": "StyleView",
            "bar_color": null,
            "description_width": ""
          }
        },
        "d839ceae25644094a6501388f27a496d": {
          "model_module": "@jupyter-widgets/base",
          "model_name": "LayoutModel",
          "model_module_version": "1.2.0",
          "state": {
            "_model_module": "@jupyter-widgets/base",
            "_model_module_version": "1.2.0",
            "_model_name": "LayoutModel",
            "_view_count": null,
            "_view_module": "@jupyter-widgets/base",
            "_view_module_version": "1.2.0",
            "_view_name": "LayoutView",
            "align_content": null,
            "align_items": null,
            "align_self": null,
            "border": null,
            "bottom": null,
            "display": null,
            "flex": null,
            "flex_flow": null,
            "grid_area": null,
            "grid_auto_columns": null,
            "grid_auto_flow": null,
            "grid_auto_rows": null,
            "grid_column": null,
            "grid_gap": null,
            "grid_row": null,
            "grid_template_areas": null,
            "grid_template_columns": null,
            "grid_template_rows": null,
            "height": null,
            "justify_content": null,
            "justify_items": null,
            "left": null,
            "margin": null,
            "max_height": null,
            "max_width": null,
            "min_height": null,
            "min_width": null,
            "object_fit": null,
            "object_position": null,
            "order": null,
            "overflow": null,
            "overflow_x": null,
            "overflow_y": null,
            "padding": null,
            "right": null,
            "top": null,
            "visibility": null,
            "width": null
          }
        },
        "62056c1694fc4ef8ba2e928903c3406c": {
          "model_module": "@jupyter-widgets/controls",
          "model_name": "DescriptionStyleModel",
          "model_module_version": "1.5.0",
          "state": {
            "_model_module": "@jupyter-widgets/controls",
            "_model_module_version": "1.5.0",
            "_model_name": "DescriptionStyleModel",
            "_view_count": null,
            "_view_module": "@jupyter-widgets/base",
            "_view_module_version": "1.2.0",
            "_view_name": "StyleView",
            "description_width": ""
          }
        }
      }
    }
  },
  "cells": [
    {
      "cell_type": "markdown",
      "source": [
        "In below cell, we import required python packages which will help us to write python script to perfrom model training.\n",
        "Here we are majorly importing 2 main packages - \n",
        "\n",
        "\n",
        "1.   `torch`: main python package containing pytorch Deep Lerning framework. It will help us to define layers, optimizers, loss, activation, etc.\n",
        "2.   `__future__`: This is more of a utility package help us to use features avaliable in new python.\n",
        "3. `torchvision`: This python package focuses on computer vision related utility for torch. This package contains popular dataset for computer vision, famous model architecture and some utility to form image transformation.\n",
        "\n"
      ],
      "metadata": {
        "id": "ijtGoTAp52Pz"
      }
    },
    {
      "cell_type": "code",
      "metadata": {
        "id": "0m2JWFliFfKT"
      },
      "source": [
        "# we import print_function from __future__. This will help us to use newer print utility.\n",
        "from __future__ import print_function \n",
        "\n",
        "# we are importing torch package. This will give us access to different modules.\n",
        "import torch \n",
        "\n",
        "# nn(neural network) is a base module from torch pacakge. It contains all utility module to build a neural network.\n",
        "import torch.nn as nn \n",
        "\n",
        "# `torch.nn.functional` module contains functions that are commonly used in neural network. \n",
        "#This module is often used in conjunction with the `torch.nn` module\n",
        "import torch.nn.functional as F \n",
        "\n",
        "# here we are importing optimization module from `torch` module and naming it as optim. \n",
        "# optimization modules contains different type of optimization which helps in updating the paramerters during model training.\n",
        "import torch.optim as optim\n",
        "\n",
        "# finally we are importing datasets and transforms sub-module from torchvision module.\n",
        "# datasets module will have collection of popular datasets like MNIST, COCO, etc.\n",
        "# transforms module will have functions to perform pre-procssing on datasets like normalization, augmentation, etc.\n",
        "from torchvision import datasets, transforms"
      ],
      "execution_count": 1,
      "outputs": []
    },
    {
      "cell_type": "markdown",
      "source": [
        "In below cell, we create a custom class called `Net`. We create this class by inhereting other class called `Module` from `nn` sub-module. \n",
        "Here `Module` class is the base class for all neural network modules in `nn` package. `Module` class has useful function like `parameters()` and `train()` which are used to access and manipulate the parameters of the network.\n",
        "In our custom class `Net` we will define following things-\n",
        "\n",
        "\n",
        "1.   Our Neural Network architecutre by specifing each layer.\n",
        "2.   forward function which will help us to perform forward propogation to calculate our predicted value.\n",
        "3. we also define activation funcation in our NN architecture. \n",
        "\n",
        "\n"
      ],
      "metadata": {
        "id": "i8enyDU1C78z"
      }
    },
    {
      "cell_type": "code",
      "metadata": {
        "id": "h_Cx9q2QFgM7"
      },
      "source": [
        "class Net(nn.Module): # define class called `Net` by inheriting `nn.module` class \n",
        "    def __init__(self): # define class constructure, This function is called when we create an instance of this class\n",
        "        super(Net, self).__init__() # here we are initlizing parent class of Net which is nn.module, this will set internal state of parent class.\n",
        "\n",
        "        #Below we are initilzing all layers required for our Neural Network from nn module. \n",
        "\n",
        "        # input_size = 28x28x1, output_size = 28x28x32\n",
        "        # input_channel = 1, output_channel/no. of kernels = 32, kernel_size = 3, padding=1, receptive_field = 2x2 (it is not 3 because we remove padding part from receptive field)\n",
        "        # here due to padding input and output size (not considering the channel) is same i.e. 28x28\n",
        "        self.conv1 = nn.Conv2d(1, 32, 3, padding=1) \n",
        "\n",
        "        # input_size = 28x28x32, output_size = 28x28x64\n",
        "        # input_channel = 32, output_channel/no. of kernels = 64, kernel_size = 3, padding=1, receptive_field = 3x3\n",
        "        # due to padding input and output are still same i.e. 28\n",
        "        self.conv2 = nn.Conv2d(32, 64, 3, padding=1)\n",
        "\n",
        "        # input_size = 28x28x64, output_size = 14x14x64\n",
        "        # input_channel = 64, output_channel/no. of kernels = remains same, filter_size = 2, stride=2, padding=0, receptive_field = 9x9\n",
        "        self.pool1 = nn.MaxPool2d(2, 2)\n",
        "\n",
        "        # input_size = 14x14x64, output_size = 14x14x128\n",
        "        # input_channel = 64, output_channel/no. of kernels = 128, filter_size = 3, receptive_field = 10x10\n",
        "        self.conv3 = nn.Conv2d(64, 128, 3, padding=1)\n",
        "\n",
        "        # input_size = 14x14x128, output_size = 14x14x256\n",
        "        # input_channel = 128, output_channel/no. of kernels = 256, filter_size = 3, receptive_field = 11x11\n",
        "        self.conv4 = nn.Conv2d(128, 256, 3, padding=1)\n",
        "\n",
        "        # input_size = 14x14x256, output_size = 7x7x256\n",
        "        # input_channel = 256, output_channel/no. of kernels = remains same, filter_size = 2, stride=2, padding=0, receptive_field = 22x22\n",
        "        self.pool2 = nn.MaxPool2d(2, 2)\n",
        "\n",
        "        # input_size = 7x7x256, output_size = 5x5x512\n",
        "        # input_channel = 256, output_channel/no. of kernels = 512, filter_size = 3, padding=0, receptive_field = 24x24 (now it not 23 because padding is not added)\n",
        "        self.conv5 = nn.Conv2d(256, 512, 3)\n",
        "\n",
        "        # input_size = 5x5x512, output_size = 3x3x1024\n",
        "        # input_channel = 512, output_channel/no. of kernels = 1024, filter_size = 3, receptive_field = 26x26\n",
        "        self.conv6 = nn.Conv2d(512, 1024, 3)\n",
        "\n",
        "        # input_size = 3x3x1024, output_size = 1x1x10\n",
        "        # input_channel = 1024, output_channel/no. of kernels = 10, filter_size = 3, receptive_field = 28x28 (equal to the size of image!!)\n",
        "        # here output_channel also represent the no. of class we need to predict.\n",
        "        self.conv7 = nn.Conv2d(1024, 10, 3)\n",
        "    \n",
        "    # Below function `forward()` is responsible for connecting the layers we defined and generate output while propogating through this layers\n",
        "    def forward(self, x): #defining forward function to take x which is the input vector.\n",
        "\n",
        "        # here x -> conv1 -> F.relu -> conv2 -> F.relu -> pool1 -> update value of x\n",
        "        # here F.relu is activation function, it helps to impart non-linarity and state of the neuron\n",
        "        x = self.pool1(F.relu(self.conv2(F.relu(self.conv1(x)))))\n",
        "\n",
        "        # here updated x -> conv3 -> F.relu -> conv4 -> F.relu -> pool2 -> again update value of x\n",
        "        x = self.pool2(F.relu(self.conv4(F.relu(self.conv3(x)))))\n",
        "\n",
        "        # update x -> conv5 -> F.relu -> convn6 -> F.relu -> update x again\n",
        "        x = F.relu(self.conv6(F.relu(self.conv5(x))))\n",
        "\n",
        "        # updated x -> conv7 -> update value of x\n",
        "        # here we have total of 7 convolution layers and two pooling layer\n",
        "        x = F.relu(self.conv7(x))\n",
        "\n",
        "        # we finally flatten the output of 1x1x10 into a single vector of 10 neurons.\n",
        "        x = x.view(-1, 10)\n",
        "\n",
        "        # we return the value after perfoming softmax activation.\n",
        "        # we use softmax activation in final layer when we are working with mutli class problem.\n",
        "        return F.log_softmax(x)"
      ],
      "execution_count": 2,
      "outputs": []
    },
    {
      "cell_type": "markdown",
      "source": [
        "In below cell we are installing torchsummary python package and setting up GPU device to efficiently train model.\n",
        "\n",
        "\n",
        "*   `torchsummary` is a python package which contain's utility function to get infromation about model architecture, model summary, input, output, etc.\n",
        "\n",
        "*   In `torch` we can use cuda devices like GPU, TPU to trian the model faster. Below cell provide code to initilize cuda GPU's \n",
        "\n"
      ],
      "metadata": {
        "id": "h_-WGuVAlhrU"
      }
    },
    {
      "cell_type": "code",
      "metadata": {
        "id": "xdydjYTZFyi3",
        "colab": {
          "base_uri": "https://localhost:8080/"
        },
        "outputId": "25003c28-e043-40b9-f06e-26830056185a"
      },
      "source": [
        "!pip install torchsummary # install torchsummary python pacakge \n",
        "from torchsummary import summary # import summary module from torchsummary, it will contain required utility function\n",
        "\n",
        "# we check if cuda device is avaialble or not in the given system.\n",
        "# use_cuda=1 if device is there & use_cuda=0 if there is no device avaliable\n",
        "use_cuda = torch.cuda.is_available() \n",
        "\n",
        "# we setup device based on availablity\n",
        "# if cuda is there then we will use cuda GPU else we will use CPU \n",
        "device = torch.device(\"cuda\" if use_cuda else \"cpu\")\n",
        "\n",
        "# Here we are creating an instance of our custom class Net() called model.\n",
        "# we are calling .to(device) method on our Net() instance to set all tensors and parameters to compute on selected device\n",
        "model = Net().to(device)\n",
        "\n",
        "# here we are using our utility function to print our our model summary, no. of parameter, inputs, outputs, etc.\n",
        "summary(model, input_size=(1, 28, 28))"
      ],
      "execution_count": 3,
      "outputs": [
        {
          "output_type": "stream",
          "name": "stdout",
          "text": [
            "Looking in indexes: https://pypi.org/simple, https://us-python.pkg.dev/colab-wheels/public/simple/\n",
            "Requirement already satisfied: torchsummary in /usr/local/lib/python3.8/dist-packages (1.5.1)\n",
            "----------------------------------------------------------------\n",
            "        Layer (type)               Output Shape         Param #\n",
            "================================================================\n",
            "            Conv2d-1           [-1, 32, 28, 28]             320\n",
            "            Conv2d-2           [-1, 64, 28, 28]          18,496\n",
            "         MaxPool2d-3           [-1, 64, 14, 14]               0\n",
            "            Conv2d-4          [-1, 128, 14, 14]          73,856\n",
            "            Conv2d-5          [-1, 256, 14, 14]         295,168\n",
            "         MaxPool2d-6            [-1, 256, 7, 7]               0\n",
            "            Conv2d-7            [-1, 512, 5, 5]       1,180,160\n",
            "            Conv2d-8           [-1, 1024, 3, 3]       4,719,616\n",
            "            Conv2d-9             [-1, 10, 1, 1]          92,170\n",
            "================================================================\n",
            "Total params: 6,379,786\n",
            "Trainable params: 6,379,786\n",
            "Non-trainable params: 0\n",
            "----------------------------------------------------------------\n",
            "Input size (MB): 0.00\n",
            "Forward/backward pass size (MB): 1.51\n",
            "Params size (MB): 24.34\n",
            "Estimated Total Size (MB): 25.85\n",
            "----------------------------------------------------------------\n"
          ]
        },
        {
          "output_type": "stream",
          "name": "stderr",
          "text": [
            "<ipython-input-2-775f3aadeb52>:68: UserWarning: Implicit dimension choice for log_softmax has been deprecated. Change the call to include dim=X as an argument.\n",
            "  return F.log_softmax(x)\n"
          ]
        }
      ]
    },
    {
      "cell_type": "markdown",
      "source": [
        "Till now we have defined our model and device over which we want to train our model. \n",
        "Now we will look into how to define data, batch size and how to load data for training. \n",
        "\n",
        "*   In below code, we create an instance of `torch.utils.data.DataLoader` module. Here dataloader helps us to maintain the flow of data from storage to memory on fly and helps to manage pre-processing of data. Below are the arguments for DataLoader.\n",
        "  1. `dataset` - dataset object which need to be created, here we are creating MNIST dataset object.\n",
        "  2. `batch_size` - batch size or no. of images over which model parameters will be updated.\n",
        "  3. `shuffle` - flag to specifiy wheather dataset is needed to shuffle. It helps to break any kind of bias related to the order of image used during training.\n",
        "  \n",
        "*   we use `batch_size` to set number of input images to use during optimization. This are the no. of images over which model will update it's parameter. If model update it's parameter after each image it is called as schostic optimization and if we update parameters after passing through all image we call it batch optimiation. It is always better to batch_size of power of 2 i.e. 16, 64, 128, etc.\n",
        "\n",
        "* Here we use existing MNIST dataset from datasets module. Below are arguments which we used in datasets.MNIST().\n",
        "  1. Path wher MNIST dataset needs to be downloaded.\n",
        "  2. `train` flag which specific wheather dataset instance will be used for training or evaluation.\n",
        "  3. `transform.to_tensor()` which will transform image data into pytorch tensors.\n",
        "  4. `transforms.Normalize()` to normalize image i.e. scaling rgb value  from 0-255 to other scale depending on provided mean and standerd deviation.\n",
        "\n",
        "\n",
        "\n",
        "\n",
        "\n",
        "\n",
        "\n",
        "\n",
        "\n"
      ],
      "metadata": {
        "id": "-84LS3MqG6Ny"
      }
    },
    {
      "cell_type": "code",
      "metadata": {
        "id": "DqTWLaM5GHgH",
        "colab": {
          "base_uri": "https://localhost:8080/",
          "height": 423,
          "referenced_widgets": [
            "cad6f0040d9f4883b843910a32606d68",
            "8656e6c8282244b69114a011fbf34544",
            "0d71ad8a2529461193b9bc6e53f3e79f",
            "63f83c6cc84743e6842217f779550c36",
            "57762b44d2734974aed27dc238d9d82b",
            "aba1c37e3fa845bfa7e74cd8e492881d",
            "532f96bbcc084293bd272628dab9bc95",
            "88633ba23ec04510a86182fb280eefaa",
            "b8f63f6dc0054658a64f4626253a608b",
            "3536c4fc217b4b3c872547a4c4e8c797",
            "aef30c005598491e9068233baba6be9d",
            "3573fcdd7ccc4a51ba8e6757970d2387",
            "b63acf1294fb41a0a2d4f1733d55588f",
            "2f9b4d33a61e4f5f9474472318edad61",
            "3eddef75423c48db8291135b72633cbf",
            "3a3d0e20e1e84ac999c586f700afd70a",
            "3800a3230a364d7888a3c5008d4802b7",
            "2b788b54ca4e44f98e1390735671e631",
            "f4e8fae6807c456984541cc6aecfce39",
            "3fdc7f73177a478288200043ea19d083",
            "45fabc08e8784424b41e4dfd9d9d6806",
            "5be51e65bb954f168375c3f8bfdc3190",
            "bac767458ded4447aab8bc892cd9539c",
            "d0c8cd4e86a74feeb21046d0efa3e166",
            "58280be66e594f459335a7b012755753",
            "ed2ac6a5625f4a98900544cb822a5f96",
            "172ee355d97c4cbcabe45860b980a58d",
            "a9d8c65d8b99458f9ea9a568955287e0",
            "91a51713a041423f81d25b3b94851faf",
            "9e06657d3cb443e294746a4a9dc63cdf",
            "33efd78e7e864f2b82d873bcd9d18f53",
            "412f8d6f8aea445da85814079822d2c9",
            "ffad444419934bcab597dbea48ff3057",
            "91eccb18f5ca4a5eae82ac738d3fdc45",
            "33c1028960e34a4c82fc542a714569fb",
            "74111955f5f74ec38dfbad07141c4025",
            "2e277ec14ca549e0a3d6af3d34a22a51",
            "9a10171638df420ab3b7e455c024fd22",
            "5b2ed7e5188842319986e5e36db77ddf",
            "f7c13150537d429c99ef6c964d8e12f0",
            "102fddde6d7f43a69f1960695191efd3",
            "a9f466f6688b4bcfbec6541b331a0918",
            "d839ceae25644094a6501388f27a496d",
            "62056c1694fc4ef8ba2e928903c3406c"
          ]
        },
        "outputId": "b22d6e81-8902-4008-a7a3-0516ee8f254d"
      },
      "source": [
        "\n",
        "\n",
        "torch.manual_seed(1) # since lot's of values will be initilized randomly, this line help us to generate similar random values in each run.\n",
        "\n",
        "batch_size = 128 # setting batch size to 128 means model will update parameters after every 128 image pass.\n",
        "\n",
        "# if we are using cuda based GPU and generate kwargs dictionary.\n",
        "# here num_workers are no. of worker processes to use for data loading, setting more then 0 will help to parallelize data loading.\n",
        "# pin_memory is a special type of memory that is faster to access compare to regular memory, it can be used to speed up data transfer between CPU and GPU.\n",
        "# setting pin_memory to True means allow dataloader to use this special memory.\n",
        "kwargs = {'num_workers': 1, 'pin_memory': True} if use_cuda else {}\n",
        "\n",
        "# creating dataloader instance which will be used for training the model.\n",
        "# here we are using available dataset MNIST\n",
        "train_loader = torch.utils.data.DataLoader(\n",
        "    datasets.MNIST('../data', train=True, download=True,\n",
        "                    transform=transforms.Compose([\n",
        "                        transforms.ToTensor(),\n",
        "                        transforms.Normalize((0.1307,), (0.3081,))\n",
        "                    ])),\n",
        "    batch_size=batch_size, shuffle=True, **kwargs)\n",
        "\n",
        "#creating dataloader instance which will be used for evaluating the model\n",
        "# we set train to False to signify that it is for evaluation.\n",
        "test_loader = torch.utils.data.DataLoader(\n",
        "    datasets.MNIST('../data', train=False, transform=transforms.Compose([\n",
        "                        transforms.ToTensor(),\n",
        "                        transforms.Normalize((0.1307,), (0.3081,))\n",
        "                    ])),\n",
        "    batch_size=batch_size, shuffle=True, **kwargs)\n"
      ],
      "execution_count": 4,
      "outputs": [
        {
          "output_type": "stream",
          "name": "stdout",
          "text": [
            "Downloading http://yann.lecun.com/exdb/mnist/train-images-idx3-ubyte.gz\n",
            "Downloading http://yann.lecun.com/exdb/mnist/train-images-idx3-ubyte.gz to ../data/MNIST/raw/train-images-idx3-ubyte.gz\n"
          ]
        },
        {
          "output_type": "display_data",
          "data": {
            "text/plain": [
              "  0%|          | 0/9912422 [00:00<?, ?it/s]"
            ],
            "application/vnd.jupyter.widget-view+json": {
              "version_major": 2,
              "version_minor": 0,
              "model_id": "cad6f0040d9f4883b843910a32606d68"
            }
          },
          "metadata": {}
        },
        {
          "output_type": "stream",
          "name": "stdout",
          "text": [
            "Extracting ../data/MNIST/raw/train-images-idx3-ubyte.gz to ../data/MNIST/raw\n",
            "\n",
            "Downloading http://yann.lecun.com/exdb/mnist/train-labels-idx1-ubyte.gz\n",
            "Downloading http://yann.lecun.com/exdb/mnist/train-labels-idx1-ubyte.gz to ../data/MNIST/raw/train-labels-idx1-ubyte.gz\n"
          ]
        },
        {
          "output_type": "display_data",
          "data": {
            "text/plain": [
              "  0%|          | 0/28881 [00:00<?, ?it/s]"
            ],
            "application/vnd.jupyter.widget-view+json": {
              "version_major": 2,
              "version_minor": 0,
              "model_id": "3573fcdd7ccc4a51ba8e6757970d2387"
            }
          },
          "metadata": {}
        },
        {
          "output_type": "stream",
          "name": "stdout",
          "text": [
            "Extracting ../data/MNIST/raw/train-labels-idx1-ubyte.gz to ../data/MNIST/raw\n",
            "\n",
            "Downloading http://yann.lecun.com/exdb/mnist/t10k-images-idx3-ubyte.gz\n",
            "Downloading http://yann.lecun.com/exdb/mnist/t10k-images-idx3-ubyte.gz to ../data/MNIST/raw/t10k-images-idx3-ubyte.gz\n"
          ]
        },
        {
          "output_type": "display_data",
          "data": {
            "text/plain": [
              "  0%|          | 0/1648877 [00:00<?, ?it/s]"
            ],
            "application/vnd.jupyter.widget-view+json": {
              "version_major": 2,
              "version_minor": 0,
              "model_id": "bac767458ded4447aab8bc892cd9539c"
            }
          },
          "metadata": {}
        },
        {
          "output_type": "stream",
          "name": "stdout",
          "text": [
            "Extracting ../data/MNIST/raw/t10k-images-idx3-ubyte.gz to ../data/MNIST/raw\n",
            "\n",
            "Downloading http://yann.lecun.com/exdb/mnist/t10k-labels-idx1-ubyte.gz\n",
            "Downloading http://yann.lecun.com/exdb/mnist/t10k-labels-idx1-ubyte.gz to ../data/MNIST/raw/t10k-labels-idx1-ubyte.gz\n"
          ]
        },
        {
          "output_type": "display_data",
          "data": {
            "text/plain": [
              "  0%|          | 0/4542 [00:00<?, ?it/s]"
            ],
            "application/vnd.jupyter.widget-view+json": {
              "version_major": 2,
              "version_minor": 0,
              "model_id": "91eccb18f5ca4a5eae82ac738d3fdc45"
            }
          },
          "metadata": {}
        },
        {
          "output_type": "stream",
          "name": "stdout",
          "text": [
            "Extracting ../data/MNIST/raw/t10k-labels-idx1-ubyte.gz to ../data/MNIST/raw\n",
            "\n"
          ]
        }
      ]
    },
    {
      "cell_type": "markdown",
      "source": [
        "In below cell we are defining our main `train()` and `test()` function which will be responsible for training and evaluating our model.\n",
        "\n",
        "Our `train()` and `test()` function takes following input arguments:\n",
        "*  model - model which is an instance of our `Net()` module which contains model architecture.\n",
        "*  device - device over which we will be training our neural network.\n",
        "*  train_loader - DataLoader instance created for handling training dataset.\n",
        "*  optimizer - which optimizer to use for performing gradient decent like Adam, SGD, GD with momentum, etc.\n",
        "*  epoch - number of iteration over complete dataset. Each iteration consist of forward and backward pass while training the model. 20 epoch means model will go throught complete dataset 20 times. \n",
        "\n"
      ],
      "metadata": {
        "id": "H9kh_9EbQcwW"
      }
    },
    {
      "cell_type": "code",
      "metadata": {
        "id": "8fDefDhaFlwH"
      },
      "source": [
        "from tqdm import tqdm # a python library utility libray which provide progress-bar for iterative function\n",
        "\n",
        "# define train() function which will be responsible for forward and backward pass for training\n",
        "def train(model, device, train_loader, optimizer, epoch):\n",
        "    model.train() # call train() method on model instance to set internel train flag as true. helps to initlize certain layers.\n",
        "    pbar = tqdm(train_loader) # object to show progress-bar while iterating through train_loader\n",
        "    for batch_idx, (data, target) in enumerate(pbar): # iterate through train_loader and unpack data and ground truth\n",
        "        data, target = data.to(device), target.to(device) # set computer device for data and target tensor\n",
        "        optimizer.zero_grad() # initilize gradients of optimizer to zero\n",
        "        output = model(data) # perfrom forward pass or prediction on given data and model\n",
        "        loss = F.nll_loss(output, target) # calculate loss using predicted value and ground truth, we are using negative log likelihood loss\n",
        "        loss.backward() # now we perform backward pass to calculate gradients \n",
        "        optimizer.step() # this will update the value of parameters/weights\n",
        "        pbar.set_description(desc= f'loss={loss.item()} batch_id={batch_idx}') # display loss of each iteration.\n",
        "\n",
        "# define test() function which will be responsible to evaluate model performance on non-training data.\n",
        "def test(model, device, test_loader):\n",
        "    model.eval() # will set model into evaluate state i.e. setting training flag to False\n",
        "    test_loss = 0 \n",
        "    correct = 0\n",
        "    with torch.no_grad(): # switch off gradient computation\n",
        "        for data, target in test_loader: # iterate through test_loader datasets\n",
        "            data, target = data.to(device), target.to(device) # set device for tensor\n",
        "            output = model(data) # perfrom prediction on test data\n",
        "            test_loss += F.nll_loss(output, target, reduction='sum').item()  # calcuate and sum up batch loss\n",
        "            pred = output.argmax(dim=1, keepdim=True)  # get the index of the max log-probability\n",
        "            correct += pred.eq(target.view_as(pred)).sum().item() # count number of correct predection using target/ground-truth and predicted value.\n",
        "\n",
        "    test_loss /= len(test_loader.dataset) # calculate avearge loss across no. of datasets\n",
        "\n",
        "    print('\\nTest set: Average loss: {:.4f}, Accuracy: {}/{} ({:.0f}%)\\n'.format(\n",
        "        test_loss, correct, len(test_loader.dataset),\n",
        "        100. * correct / len(test_loader.dataset)))  # print loss and accuracy on the terminal"
      ],
      "execution_count": 5,
      "outputs": []
    },
    {
      "cell_type": "markdown",
      "source": [
        "In Below cell, we first create our architecture instance `model` then we define our optimizer which is SGD (stochastic Gradient Descent) with learning-rate = 0.01 and momentum=0.9.\n",
        "  * Here learning-rate control by how much the parameters value should be updated. larger learning-rate means parameters will be updated by larger values.\n",
        "  * momentum help us to avoid converging in local minimua.\n",
        "\n",
        "In this cell we are also performing epoch iteration and in each iteration we are calling train() and test() fucntion."
      ],
      "metadata": {
        "id": "tvJaj2m9hTRQ"
      }
    },
    {
      "cell_type": "code",
      "metadata": {
        "id": "MMWbLWO6FuHb",
        "colab": {
          "base_uri": "https://localhost:8080/"
        },
        "outputId": "60675544-0e7e-4e90-dd0c-5b5b6d55975d"
      },
      "source": [
        "\n",
        "model = Net().to(device) # initilize instance of Net() and then set which device to use\n",
        "optimizer = optim.SGD(model.parameters(), lr=0.01, momentum=0.9) # set optimizer for training\n",
        "\n",
        "# iterate through epochs, here each epoch will again iterate through all training data.\n",
        "for epoch in range(1, 20):\n",
        "    train(model, device, train_loader, optimizer, epoch) # call train() function for training\n",
        "    test(model, device, test_loader) # call test() function for evaluating model on test dataset"
      ],
      "execution_count": 8,
      "outputs": [
        {
          "output_type": "stream",
          "name": "stderr",
          "text": [
            "  0%|          | 0/469 [00:00<?, ?it/s]<ipython-input-2-775f3aadeb52>:68: UserWarning: Implicit dimension choice for log_softmax has been deprecated. Change the call to include dim=X as an argument.\n",
            "  return F.log_softmax(x)\n",
            "loss=1.4207569360733032 batch_id=468: 100%|██████████| 469/469 [00:18<00:00, 24.96it/s]\n"
          ]
        },
        {
          "output_type": "stream",
          "name": "stdout",
          "text": [
            "\n",
            "Test set: Average loss: 1.4180, Accuracy: 5030/10000 (50%)\n",
            "\n"
          ]
        },
        {
          "output_type": "stream",
          "name": "stderr",
          "text": [
            "loss=1.4068306684494019 batch_id=468: 100%|██████████| 469/469 [00:17<00:00, 26.85it/s]\n"
          ]
        },
        {
          "output_type": "stream",
          "name": "stdout",
          "text": [
            "\n",
            "Test set: Average loss: 1.3802, Accuracy: 5082/10000 (51%)\n",
            "\n"
          ]
        },
        {
          "output_type": "stream",
          "name": "stderr",
          "text": [
            "loss=1.4327501058578491 batch_id=468: 100%|██████████| 469/469 [00:17<00:00, 26.30it/s]\n"
          ]
        },
        {
          "output_type": "stream",
          "name": "stdout",
          "text": [
            "\n",
            "Test set: Average loss: 1.3694, Accuracy: 5089/10000 (51%)\n",
            "\n"
          ]
        },
        {
          "output_type": "stream",
          "name": "stderr",
          "text": [
            "loss=1.4305704832077026 batch_id=468: 100%|██████████| 469/469 [00:17<00:00, 26.85it/s]\n"
          ]
        },
        {
          "output_type": "stream",
          "name": "stdout",
          "text": [
            "\n",
            "Test set: Average loss: 1.3681, Accuracy: 5103/10000 (51%)\n",
            "\n"
          ]
        },
        {
          "output_type": "stream",
          "name": "stderr",
          "text": [
            "loss=1.2765380144119263 batch_id=468: 100%|██████████| 469/469 [00:17<00:00, 26.14it/s]\n"
          ]
        },
        {
          "output_type": "stream",
          "name": "stdout",
          "text": [
            "\n",
            "Test set: Average loss: 1.1427, Accuracy: 6080/10000 (61%)\n",
            "\n"
          ]
        },
        {
          "output_type": "stream",
          "name": "stderr",
          "text": [
            "loss=0.8513968586921692 batch_id=468: 100%|██████████| 469/469 [00:18<00:00, 25.45it/s]\n"
          ]
        },
        {
          "output_type": "stream",
          "name": "stdout",
          "text": [
            "\n",
            "Test set: Average loss: 0.9220, Accuracy: 6087/10000 (61%)\n",
            "\n"
          ]
        },
        {
          "output_type": "stream",
          "name": "stderr",
          "text": [
            "loss=0.9032487869262695 batch_id=468: 100%|██████████| 469/469 [00:17<00:00, 26.69it/s]\n"
          ]
        },
        {
          "output_type": "stream",
          "name": "stdout",
          "text": [
            "\n",
            "Test set: Average loss: 0.9191, Accuracy: 6088/10000 (61%)\n",
            "\n"
          ]
        },
        {
          "output_type": "stream",
          "name": "stderr",
          "text": [
            "loss=0.7056861519813538 batch_id=468: 100%|██████████| 469/469 [00:17<00:00, 26.64it/s]\n"
          ]
        },
        {
          "output_type": "stream",
          "name": "stdout",
          "text": [
            "\n",
            "Test set: Average loss: 0.6945, Accuracy: 7037/10000 (70%)\n",
            "\n"
          ]
        },
        {
          "output_type": "stream",
          "name": "stderr",
          "text": [
            "loss=0.5310333967208862 batch_id=468: 100%|██████████| 469/469 [00:17<00:00, 26.16it/s]\n"
          ]
        },
        {
          "output_type": "stream",
          "name": "stdout",
          "text": [
            "\n",
            "Test set: Average loss: 0.6956, Accuracy: 7042/10000 (70%)\n",
            "\n"
          ]
        },
        {
          "output_type": "stream",
          "name": "stderr",
          "text": [
            "loss=0.8190118670463562 batch_id=468: 100%|██████████| 469/469 [00:17<00:00, 27.00it/s]\n"
          ]
        },
        {
          "output_type": "stream",
          "name": "stdout",
          "text": [
            "\n",
            "Test set: Average loss: 0.6959, Accuracy: 7031/10000 (70%)\n",
            "\n"
          ]
        },
        {
          "output_type": "stream",
          "name": "stderr",
          "text": [
            "loss=0.7738959789276123 batch_id=468: 100%|██████████| 469/469 [00:20<00:00, 23.20it/s]\n"
          ]
        },
        {
          "output_type": "stream",
          "name": "stdout",
          "text": [
            "\n",
            "Test set: Average loss: 0.6948, Accuracy: 7042/10000 (70%)\n",
            "\n"
          ]
        },
        {
          "output_type": "stream",
          "name": "stderr",
          "text": [
            "loss=0.6029121279716492 batch_id=468: 100%|██████████| 469/469 [00:17<00:00, 26.34it/s]\n"
          ]
        },
        {
          "output_type": "stream",
          "name": "stdout",
          "text": [
            "\n",
            "Test set: Average loss: 0.6994, Accuracy: 7022/10000 (70%)\n",
            "\n"
          ]
        },
        {
          "output_type": "stream",
          "name": "stderr",
          "text": [
            "loss=0.6089175343513489 batch_id=468: 100%|██████████| 469/469 [00:17<00:00, 26.70it/s]\n"
          ]
        },
        {
          "output_type": "stream",
          "name": "stdout",
          "text": [
            "\n",
            "Test set: Average loss: 0.6929, Accuracy: 7036/10000 (70%)\n",
            "\n"
          ]
        },
        {
          "output_type": "stream",
          "name": "stderr",
          "text": [
            "loss=0.5516868829727173 batch_id=468: 100%|██████████| 469/469 [00:18<00:00, 25.22it/s]\n"
          ]
        },
        {
          "output_type": "stream",
          "name": "stdout",
          "text": [
            "\n",
            "Test set: Average loss: 0.6964, Accuracy: 7040/10000 (70%)\n",
            "\n"
          ]
        },
        {
          "output_type": "stream",
          "name": "stderr",
          "text": [
            "loss=0.623724639415741 batch_id=468: 100%|██████████| 469/469 [00:17<00:00, 26.35it/s]\n"
          ]
        },
        {
          "output_type": "stream",
          "name": "stdout",
          "text": [
            "\n",
            "Test set: Average loss: 0.6916, Accuracy: 7051/10000 (71%)\n",
            "\n"
          ]
        },
        {
          "output_type": "stream",
          "name": "stderr",
          "text": [
            "loss=0.6434343457221985 batch_id=468: 100%|██████████| 469/469 [00:18<00:00, 25.11it/s]\n"
          ]
        },
        {
          "output_type": "stream",
          "name": "stdout",
          "text": [
            "\n",
            "Test set: Average loss: 0.6992, Accuracy: 7030/10000 (70%)\n",
            "\n"
          ]
        },
        {
          "output_type": "stream",
          "name": "stderr",
          "text": [
            "loss=0.7675644755363464 batch_id=468: 100%|██████████| 469/469 [00:17<00:00, 26.43it/s]\n"
          ]
        },
        {
          "output_type": "stream",
          "name": "stdout",
          "text": [
            "\n",
            "Test set: Average loss: 0.7072, Accuracy: 7033/10000 (70%)\n",
            "\n"
          ]
        },
        {
          "output_type": "stream",
          "name": "stderr",
          "text": [
            "loss=0.6762976050376892 batch_id=468: 100%|██████████| 469/469 [00:17<00:00, 26.15it/s]\n"
          ]
        },
        {
          "output_type": "stream",
          "name": "stdout",
          "text": [
            "\n",
            "Test set: Average loss: 0.6967, Accuracy: 7046/10000 (70%)\n",
            "\n"
          ]
        },
        {
          "output_type": "stream",
          "name": "stderr",
          "text": [
            "loss=0.7195828557014465 batch_id=468: 100%|██████████| 469/469 [00:18<00:00, 25.44it/s]\n"
          ]
        },
        {
          "output_type": "stream",
          "name": "stdout",
          "text": [
            "\n",
            "Test set: Average loss: 0.6997, Accuracy: 7054/10000 (71%)\n",
            "\n"
          ]
        }
      ]
    },
    {
      "cell_type": "code",
      "metadata": {
        "id": "So5uk4EkHW6R",
        "colab": {
          "base_uri": "https://localhost:8080/"
        },
        "outputId": "4560a353-7182-4606-a0d1-ff0b0b2eea44"
      },
      "source": [],
      "execution_count": null,
      "outputs": [
        {
          "output_type": "stream",
          "name": "stdout",
          "text": [
            "Mon Dec  5 18:42:39 2022       \n",
            "+-----------------------------------------------------------------------------+\n",
            "| NVIDIA-SMI 460.32.03    Driver Version: 460.32.03    CUDA Version: 11.2     |\n",
            "|-------------------------------+----------------------+----------------------+\n",
            "| GPU  Name        Persistence-M| Bus-Id        Disp.A | Volatile Uncorr. ECC |\n",
            "| Fan  Temp  Perf  Pwr:Usage/Cap|         Memory-Usage | GPU-Util  Compute M. |\n",
            "|                               |                      |               MIG M. |\n",
            "|===============================+======================+======================|\n",
            "|   0  Tesla T4            Off  | 00000000:00:04.0 Off |                    0 |\n",
            "| N/A   65C    P0    31W /  70W |      0MiB / 15109MiB |      0%      Default |\n",
            "|                               |                      |                  N/A |\n",
            "+-------------------------------+----------------------+----------------------+\n",
            "                                                                               \n",
            "+-----------------------------------------------------------------------------+\n",
            "| Processes:                                                                  |\n",
            "|  GPU   GI   CI        PID   Type   Process name                  GPU Memory |\n",
            "|        ID   ID                                                   Usage      |\n",
            "|=============================================================================|\n",
            "|  No running processes found                                                 |\n",
            "+-----------------------------------------------------------------------------+\n"
          ]
        }
      ]
    },
    {
      "cell_type": "code",
      "source": [],
      "metadata": {
        "id": "RCNOolh4mOI5"
      },
      "execution_count": null,
      "outputs": []
    }
  ]
}